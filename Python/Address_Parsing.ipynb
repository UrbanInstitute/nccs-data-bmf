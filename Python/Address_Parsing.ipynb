{
  "nbformat": 4,
  "nbformat_minor": 0,
  "metadata": {
    "colab": {
      "provenance": []
    },
    "kernelspec": {
      "name": "python3",
      "display_name": "Python 3"
    },
    "language_info": {
      "name": "python"
    }
  },
  "cells": [
    {
      "cell_type": "code",
      "execution_count": 1,
      "metadata": {
        "id": "_hSf6oHDGtYC"
      },
      "outputs": [],
      "source": [
        "import pandas as pd"
      ]
    },
    {
      "cell_type": "code",
      "source": [
        "pip install usaddress"
      ],
      "metadata": {
        "colab": {
          "base_uri": "https://localhost:8080/"
        },
        "id": "pKsT6_vgG_3Q",
        "outputId": "59d69ca8-073f-4b5b-c4b3-3eccb5c3f723"
      },
      "execution_count": 3,
      "outputs": [
        {
          "output_type": "stream",
          "name": "stdout",
          "text": [
            "Collecting usaddress\n",
            "  Downloading usaddress-0.5.16-py3-none-any.whl.metadata (6.7 kB)\n",
            "Collecting python-crfsuite>=0.7 (from usaddress)\n",
            "  Downloading python_crfsuite-0.9.11-cp312-cp312-manylinux_2_17_x86_64.manylinux2014_x86_64.whl.metadata (4.3 kB)\n",
            "Collecting probableparsing (from usaddress)\n",
            "  Downloading probableparsing-0.0.1-py2.py3-none-any.whl.metadata (908 bytes)\n",
            "Downloading usaddress-0.5.16-py3-none-any.whl (70 kB)\n",
            "\u001b[2K   \u001b[90m━━━━━━━━━━━━━━━━━━━━━━━━━━━━━━━━━━━━━━━━\u001b[0m \u001b[32m70.6/70.6 kB\u001b[0m \u001b[31m1.2 MB/s\u001b[0m eta \u001b[36m0:00:00\u001b[0m\n",
            "\u001b[?25hDownloading python_crfsuite-0.9.11-cp312-cp312-manylinux_2_17_x86_64.manylinux2014_x86_64.whl (1.3 MB)\n",
            "\u001b[2K   \u001b[90m━━━━━━━━━━━━━━━━━━━━━━━━━━━━━━━━━━━━━━━━\u001b[0m \u001b[32m1.3/1.3 MB\u001b[0m \u001b[31m12.5 MB/s\u001b[0m eta \u001b[36m0:00:00\u001b[0m\n",
            "\u001b[?25hDownloading probableparsing-0.0.1-py2.py3-none-any.whl (3.1 kB)\n",
            "Installing collected packages: probableparsing, python-crfsuite, usaddress\n",
            "Successfully installed probableparsing-0.0.1 python-crfsuite-0.9.11 usaddress-0.5.16\n"
          ]
        }
      ]
    },
    {
      "cell_type": "code",
      "source": [
        "import usaddress"
      ],
      "metadata": {
        "id": "VrVyhFA5JFqw"
      },
      "execution_count": 4,
      "outputs": []
    },
    {
      "cell_type": "code",
      "source": [
        "# load the csv file with 100 samples\n",
        "df = pd.read_csv(\"/content/sample_addresses.csv\")"
      ],
      "metadata": {
        "id": "8AN5vzWrJNb-"
      },
      "execution_count": 9,
      "outputs": []
    },
    {
      "cell_type": "code",
      "source": [
        "# Parse addresses using usadress\n",
        "parsed_addresses = []\n",
        "\n",
        "for address in df[\"ORG_ADDR_FULL\"]:\n",
        "    try:\n",
        "        parsed, _ = usaddress.tag(address)\n",
        "    except usaddress.RepeatedLabelError as e:\n",
        "        parsed = {\"Error\": str(e)}\n",
        "    parsed_addresses.append(parsed)\n",
        "\n",
        "#Converse parsed reesults to a DataFrame\n",
        "parsed_df = pd.DataFrame(parsed_addresses)"
      ],
      "metadata": {
        "id": "0DNdOOrcKWtN"
      },
      "execution_count": 27,
      "outputs": []
    },
    {
      "cell_type": "code",
      "source": [
        "parsed_df.to_csv(\"parsed_addresses.csv\", index = False)"
      ],
      "metadata": {
        "id": "ob9e4lc4L2XA"
      },
      "execution_count": 28,
      "outputs": []
    }
  ]
}