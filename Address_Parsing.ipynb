{
  "nbformat": 4,
  "nbformat_minor": 0,
  "metadata": {
    "colab": {
      "provenance": [],
      "authorship_tag": "ABX9TyNx4bqXi5IEoLmX3Zh+5RZM",
      "include_colab_link": true
    },
    "kernelspec": {
      "name": "python3",
      "display_name": "Python 3"
    },
    "language_info": {
      "name": "python"
    }
  },
  "cells": [
    {
      "cell_type": "markdown",
      "metadata": {
        "id": "view-in-github",
        "colab_type": "text"
      },
      "source": [
        "<a href=\"https://colab.research.google.com/github/UrbanInstitute/nccs-data-bmf/blob/standardization_dev/Address_Parsing.ipynb\" target=\"_parent\"><img src=\"https://colab.research.google.com/assets/colab-badge.svg\" alt=\"Open In Colab\"/></a>"
      ]
    },
    {
      "cell_type": "code",
      "execution_count": 2,
      "metadata": {
        "id": "_hSf6oHDGtYC"
      },
      "outputs": [],
      "source": [
        "import pandas as pd"
      ]
    },
    {
      "cell_type": "code",
      "source": [
        "pip install usaddress"
      ],
      "metadata": {
        "colab": {
          "base_uri": "https://localhost:8080/"
        },
        "id": "pKsT6_vgG_3Q",
        "outputId": "8c9ca309-de00-4248-98d5-4bbe473c0e62"
      },
      "execution_count": 3,
      "outputs": [
        {
          "output_type": "stream",
          "name": "stdout",
          "text": [
            "Collecting usaddress\n",
            "  Downloading usaddress-0.5.16-py3-none-any.whl.metadata (6.7 kB)\n",
            "Collecting python-crfsuite>=0.7 (from usaddress)\n",
            "  Downloading python_crfsuite-0.9.11-cp312-cp312-manylinux_2_17_x86_64.manylinux2014_x86_64.whl.metadata (4.3 kB)\n",
            "Collecting probableparsing (from usaddress)\n",
            "  Downloading probableparsing-0.0.1-py2.py3-none-any.whl.metadata (908 bytes)\n",
            "Downloading usaddress-0.5.16-py3-none-any.whl (70 kB)\n",
            "\u001b[2K   \u001b[90m━━━━━━━━━━━━━━━━━━━━━━━━━━━━━━━━━━━━━━━━\u001b[0m \u001b[32m70.6/70.6 kB\u001b[0m \u001b[31m1.7 MB/s\u001b[0m eta \u001b[36m0:00:00\u001b[0m\n",
            "\u001b[?25hDownloading python_crfsuite-0.9.11-cp312-cp312-manylinux_2_17_x86_64.manylinux2014_x86_64.whl (1.3 MB)\n",
            "\u001b[2K   \u001b[90m━━━━━━━━━━━━━━━━━━━━━━━━━━━━━━━━━━━━━━━━\u001b[0m \u001b[32m1.3/1.3 MB\u001b[0m \u001b[31m16.8 MB/s\u001b[0m eta \u001b[36m0:00:00\u001b[0m\n",
            "\u001b[?25hDownloading probableparsing-0.0.1-py2.py3-none-any.whl (3.1 kB)\n",
            "Installing collected packages: probableparsing, python-crfsuite, usaddress\n",
            "Successfully installed probableparsing-0.0.1 python-crfsuite-0.9.11 usaddress-0.5.16\n"
          ]
        }
      ]
    },
    {
      "cell_type": "code",
      "source": [
        "import usaddress"
      ],
      "metadata": {
        "id": "VrVyhFA5JFqw"
      },
      "execution_count": 4,
      "outputs": []
    },
    {
      "cell_type": "code",
      "source": [
        "# load the csv file with 100 samples\n",
        "df = pd.read_csv(\"/content/sample_addresses.csv\")"
      ],
      "metadata": {
        "id": "8AN5vzWrJNb-"
      },
      "execution_count": 6,
      "outputs": []
    },
    {
      "cell_type": "code",
      "source": [
        "# Parse addresses using usadress\n",
        "parsed_addresses = []\n",
        "\n",
        "for address in df[\"ORG_ADDR_FULL\"]:\n",
        "    try:\n",
        "        parsed, _ = usaddress.tag(address)\n",
        "    except usaddress.RepeatedLabelError as e:\n",
        "        parsed = {\"Error\": str(e)}\n",
        "    parsed_addresses.append(parsed)\n",
        "\n",
        "#Converse parsed reesults to a DataFrame\n",
        "parsed_df = pd.DataFrame(parsed_addresses)"
      ],
      "metadata": {
        "id": "0DNdOOrcKWtN"
      },
      "execution_count": 7,
      "outputs": []
    },
    {
      "cell_type": "code",
      "source": [
        "parsed_df.to_csv(\"parsed_addresses.csv\", index = False)"
      ],
      "metadata": {
        "id": "ob9e4lc4L2XA"
      },
      "execution_count": 8,
      "outputs": []
    },
    {
      "cell_type": "code",
      "source": [
        "#install ez_address_parser\n",
        "!pip install ez-address-parser\n",
        "from ez_address_parser import AddressParser"
      ],
      "metadata": {
        "colab": {
          "base_uri": "https://localhost:8080/"
        },
        "id": "1PYMgIMlxxTM",
        "outputId": "d27b18be-6c79-4107-e620-2ca5d2dee648"
      },
      "execution_count": 1,
      "outputs": [
        {
          "output_type": "stream",
          "name": "stdout",
          "text": [
            "Collecting ez-address-parser\n",
            "  Downloading ez_address_parser-0.2.5-py3-none-any.whl.metadata (2.9 kB)\n",
            "Collecting sklearn-crfsuite (from ez-address-parser)\n",
            "  Downloading sklearn_crfsuite-0.5.0-py2.py3-none-any.whl.metadata (4.9 kB)\n",
            "Requirement already satisfied: numpy in /usr/local/lib/python3.12/dist-packages (from ez-address-parser) (2.0.2)\n",
            "Collecting python-crfsuite>=0.9.7 (from sklearn-crfsuite->ez-address-parser)\n",
            "  Downloading python_crfsuite-0.9.11-cp312-cp312-manylinux_2_17_x86_64.manylinux2014_x86_64.whl.metadata (4.3 kB)\n",
            "Requirement already satisfied: scikit-learn>=0.24.0 in /usr/local/lib/python3.12/dist-packages (from sklearn-crfsuite->ez-address-parser) (1.6.1)\n",
            "Requirement already satisfied: tabulate>=0.4.2 in /usr/local/lib/python3.12/dist-packages (from sklearn-crfsuite->ez-address-parser) (0.9.0)\n",
            "Requirement already satisfied: tqdm>=2.0 in /usr/local/lib/python3.12/dist-packages (from sklearn-crfsuite->ez-address-parser) (4.67.1)\n",
            "Requirement already satisfied: scipy>=1.6.0 in /usr/local/lib/python3.12/dist-packages (from scikit-learn>=0.24.0->sklearn-crfsuite->ez-address-parser) (1.16.1)\n",
            "Requirement already satisfied: joblib>=1.2.0 in /usr/local/lib/python3.12/dist-packages (from scikit-learn>=0.24.0->sklearn-crfsuite->ez-address-parser) (1.5.2)\n",
            "Requirement already satisfied: threadpoolctl>=3.1.0 in /usr/local/lib/python3.12/dist-packages (from scikit-learn>=0.24.0->sklearn-crfsuite->ez-address-parser) (3.6.0)\n",
            "Downloading ez_address_parser-0.2.5-py3-none-any.whl (27 kB)\n",
            "Downloading sklearn_crfsuite-0.5.0-py2.py3-none-any.whl (10 kB)\n",
            "Downloading python_crfsuite-0.9.11-cp312-cp312-manylinux_2_17_x86_64.manylinux2014_x86_64.whl (1.3 MB)\n",
            "\u001b[2K   \u001b[90m━━━━━━━━━━━━━━━━━━━━━━━━━━━━━━━━━━━━━━━━\u001b[0m \u001b[32m1.3/1.3 MB\u001b[0m \u001b[31m19.3 MB/s\u001b[0m eta \u001b[36m0:00:00\u001b[0m\n",
            "\u001b[?25hInstalling collected packages: python-crfsuite, sklearn-crfsuite, ez-address-parser\n",
            "Successfully installed ez-address-parser-0.2.5 python-crfsuite-0.9.11 sklearn-crfsuite-0.5.0\n"
          ]
        }
      ]
    },
    {
      "cell_type": "code",
      "source": [
        "#parse using ez_parsed method\n",
        "parser = AddressParser()\n",
        "\n",
        "parsed_results = []\n",
        "for address in df['ORG_ADDR_FULL'].dropna():\n",
        "    parsed = parser.parse(address)\n",
        "    parsed_results.append(parsed)\n",
        "\n",
        "parsed_df = pd.DataFrame(parsed_results)\n",
        "parsed_df.to_csv(\"ez_parsed_addresses.csv\", index=False)\n"
      ],
      "metadata": {
        "id": "WfF_oEJx1PPH"
      },
      "execution_count": 7,
      "outputs": []
    }
  ]
}